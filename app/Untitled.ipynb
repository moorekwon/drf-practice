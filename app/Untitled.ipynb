{
 "cells": [
  {
   "cell_type": "code",
   "execution_count": 1,
   "metadata": {},
   "outputs": [],
   "source": [
    "import os\n",
    "os.environ[\"DJANGO_ALLOW_ASYNC_UNSAFE\"] = \"true\"\n",
    "\n",
    "from members.models import User\n",
    "\n",
    "dooh = User.objects.create(username='dooh', password='dooh', email='dooh@dooh.com', gender='남자', location='서울', body_type='슬림한', personality='착한', blood_type='AB', drinking='가끔 마심')\n",
    "eunbi = User.objects.create(username='eunbi', password='eunbi', email='eunbi@eunbi.com', gender='여자', location='서울', body_type='슬림한', personality='착한', blood_type='AB', drinking='가끔 마심')\n",
    "suzy = User.objects.create(username='suzy', password='suzy', email='suzy@suzy.com', gender='여자', location='서울', body_type='슬림한', personality='착한', blood_type='AB', drinking='가끔 마심')\n",
    "hongbeen = User.objects.create(username='hongbeen', password='hongbeen', email='hongbeen@hongbeen.com', gender='남자', location='서울', body_type='슬림한', personality='착한', blood_type='AB', drinking='가끔 마심')\n",
    "jiho = User.objects.create(username='jiho', password='jiho', email='jiho@jiho.com', gender='남자', location='서울', body_type='슬림한', personality='착한', blood_type='AB', drinking='가끔 마심')\n",
    "hyojin = User.objects.create(username='hyojin', password='hyojin', email='hyojin@hyojin.com', gender='여자', location='서울', body_type='슬림한', personality='착한', blood_type='AB', drinking='가끔 마심')"
   ]
  },
  {
   "cell_type": "code",
   "execution_count": 2,
   "metadata": {},
   "outputs": [
    {
     "data": {
      "text/plain": [
       "<QuerySet [<User: dooh>, <User: eunbi>, <User: suzy>, <User: hongbeen>, <User: jiho>, <User: hyojin>]>"
      ]
     },
     "execution_count": 2,
     "metadata": {},
     "output_type": "execute_result"
    }
   ],
   "source": [
    "User.objects.all()"
   ]
  },
  {
   "cell_type": "code",
   "execution_count": 3,
   "metadata": {},
   "outputs": [
    {
     "data": {
      "text/plain": [
       "<SendStar: SendStar object (4)>"
      ]
     },
     "execution_count": 3,
     "metadata": {},
     "output_type": "execute_result"
    }
   ],
   "source": [
    "from amantha.models import *\n",
    "\n",
    "send_star = SendStar.objects.create(partner=eunbi, star='5')\n",
    "send_star"
   ]
  },
  {
   "cell_type": "code",
   "execution_count": 4,
   "metadata": {},
   "outputs": [
    {
     "data": {
      "text/plain": [
       "<QuerySet [<SendStar: SendStar object (4)>]>"
      ]
     },
     "execution_count": 4,
     "metadata": {},
     "output_type": "execute_result"
    }
   ],
   "source": [
    "SendStar.objects.all()"
   ]
  },
  {
   "cell_type": "code",
   "execution_count": 9,
   "metadata": {},
   "outputs": [],
   "source": [
    "get_eb = User.objects.get(username='eunbi')"
   ]
  }
 ],
 "metadata": {
  "kernelspec": {
   "display_name": "Django Shell-Plus",
   "language": "python",
   "name": "django_extensions"
  },
  "language_info": {
   "codemirror_mode": {
    "name": "ipython",
    "version": 3
   },
   "file_extension": ".py",
   "mimetype": "text/x-python",
   "name": "python",
   "nbconvert_exporter": "python",
   "pygments_lexer": "ipython3",
   "version": "3.7.5"
  }
 },
 "nbformat": 4,
 "nbformat_minor": 4
}
